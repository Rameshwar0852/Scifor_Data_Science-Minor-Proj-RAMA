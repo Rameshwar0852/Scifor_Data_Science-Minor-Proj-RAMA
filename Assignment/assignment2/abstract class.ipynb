{
 "cells": [
  {
   "cell_type": "code",
   "execution_count": 8,
   "id": "1f8ceae8",
   "metadata": {},
   "outputs": [
    {
     "name": "stdout",
     "output_type": "stream",
     "text": [
      "Ignition start\n",
      "Ignition Stop\n",
      "Kick Start\n",
      "Switch engine off\n",
      "Self start\n",
      "Switch off engine\n"
     ]
    }
   ],
   "source": [
    "from abc import ABC,abstractmethod\n",
    "class vehicle(ABC):\n",
    "    @abstractmethod\n",
    "    def start(self):\n",
    "        pass\n",
    "    @abstractmethod\n",
    "    def stop(self):\n",
    "        pass\n",
    "class car(vehicle):\n",
    "    def start(self):\n",
    "        print(\"Ignition start\")\n",
    "    def stop(self):\n",
    "        print(\"Ignition Stop\")\n",
    "class bike(vehicle):\n",
    "    def start(self):\n",
    "        print(\"Kick Start\")\n",
    "    def stop(self):\n",
    "        print(\"Switch engine off\")\n",
    "class scooty(vehicle):\n",
    "    def start(self):\n",
    "        print(\"Self start\")\n",
    "    def stop(self):\n",
    "        print(\"Switch off engine\")\n",
    "c1=car()\n",
    "b1=bike()\n",
    "s1=scooty()\n",
    "c1.start()\n",
    "c1.stop()\n",
    "b1.start()\n",
    "b1.stop()\n",
    "s1.start()\n",
    "s1.stop()\n"
   ]
  },
  {
   "cell_type": "code",
   "execution_count": null,
   "id": "bd3df748",
   "metadata": {},
   "outputs": [],
   "source": []
  }
 ],
 "metadata": {
  "kernelspec": {
   "display_name": "Python 3 (ipykernel)",
   "language": "python",
   "name": "python3"
  },
  "language_info": {
   "codemirror_mode": {
    "name": "ipython",
    "version": 3
   },
   "file_extension": ".py",
   "mimetype": "text/x-python",
   "name": "python",
   "nbconvert_exporter": "python",
   "pygments_lexer": "ipython3",
   "version": "3.10.9"
  }
 },
 "nbformat": 4,
 "nbformat_minor": 5
}
