{
  "nbformat": 4,
  "nbformat_minor": 0,
  "metadata": {
    "colab": {
      "provenance": []
    },
    "kernelspec": {
      "name": "python3",
      "display_name": "Python 3"
    },
    "language_info": {
      "name": "python"
    }
  },
  "cells": [
    {
      "cell_type": "code",
      "execution_count": null,
      "metadata": {
        "id": "5x9ntx90hHfV"
      },
      "outputs": [],
      "source": [
        "# Parent Class\n",
        "class Animal:\n",
        "    def __init__(self, name):\n",
        "        self.name = name\n",
        "\n",
        "    def sound(self):\n",
        "        pass\n",
        "\n",
        "# Child Class\n",
        "class Dog(Animal):\n",
        "    def sound(self):\n",
        "        return \"Bark!\"\n",
        "\n",
        "dog = Dog(\"Buddy\")\n",
        "print(dog.name)\n",
        "print(dog.sound())"
      ]
    }
  ]
}