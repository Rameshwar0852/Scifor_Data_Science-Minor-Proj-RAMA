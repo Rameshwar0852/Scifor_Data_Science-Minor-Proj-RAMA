{
  "nbformat": 4,
  "nbformat_minor": 0,
  "metadata": {
    "colab": {
      "provenance": []
    },
    "kernelspec": {
      "name": "python3",
      "display_name": "Python 3"
    },
    "language_info": {
      "name": "python"
    }
  },
  "cells": [
    {
      "cell_type": "code",
      "execution_count": 1,
      "metadata": {
        "colab": {
          "base_uri": "https://localhost:8080/"
        },
        "id": "xBivOc-wh9t0",
        "outputId": "04d41959-8ef2-4883-cab1-2110c1ce8b42"
      },
      "outputs": [
        {
          "output_type": "stream",
          "name": "stdout",
          "text": [
            "Buddy\n",
            "Bark!\n",
            "Running!\n"
          ]
        }
      ],
      "source": [
        "# Grandparent Class\n",
        "class Animal:\n",
        "    def __init__(self, name):\n",
        "        self.name = name\n",
        "\n",
        "    def show_name(self):\n",
        "        return self.name\n",
        "\n",
        "# Parent Class\n",
        "class Dog(Animal):\n",
        "    def sound(self):\n",
        "        return \"Bark!\"\n",
        "\n",
        "# Child Class\n",
        "class Bulldog(Dog):\n",
        "    def run(self):\n",
        "        return \"Running!\"\n",
        "\n",
        "bulldog = Bulldog(\"Buddy\")\n",
        "print(bulldog.show_name())\n",
        "print(bulldog.sound())\n",
        "print(bulldog.run())"
      ]
    }
  ]
}