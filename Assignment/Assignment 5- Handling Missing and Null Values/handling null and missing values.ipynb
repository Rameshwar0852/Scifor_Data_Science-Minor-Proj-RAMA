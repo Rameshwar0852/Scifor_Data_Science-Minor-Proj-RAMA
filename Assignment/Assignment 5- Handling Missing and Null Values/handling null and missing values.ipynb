{
 "cells": [
  {
   "cell_type": "code",
   "execution_count": 1,
   "id": "0ee084e4",
   "metadata": {},
   "outputs": [],
   "source": [
    "import pandas as pd\n",
    "import numpy as np\n",
    "\n",
    "\n",
    "\n",
    "\n"
   ]
  },
  {
   "cell_type": "code",
   "execution_count": 2,
   "id": "087e5ec1",
   "metadata": {},
   "outputs": [],
   "source": [
    "df = pd.read_csv('listings.csv')"
   ]
  },
  {
   "cell_type": "code",
   "execution_count": 9,
   "id": "74b2bb01",
   "metadata": {},
   "outputs": [
    {
     "name": "stdout",
     "output_type": "stream",
     "text": [
      "             id                                              name    host_id  \\\n",
      "0          3647               THE VILLAGE OF HARLEM....NEW YORK !       4632   \n",
      "1          3831                   Cozy Entire Floor of Brownstone       4869   \n",
      "2          5022  Entire Apt: Spacious Studio/Loft by central park       7192   \n",
      "3          5099         Large Cozy 1 BR Apartment In Midtown East       7322   \n",
      "4          5121                                   BlissArtsSpace!       7356   \n",
      "...         ...                                               ...        ...   \n",
      "48372  38564068                                 Top Floor Delight  207204450   \n",
      "48373  38564524                             Central Park Elegance    1567562   \n",
      "48374  38566777                              Quiet room available  159902221   \n",
      "48375  38567542              Spacious room in Brooklyn brownstone   68905617   \n",
      "48376  38568081         Petrose home by JFK, Beach &St John Hosp.  293596932   \n",
      "\n",
      "         host_name neighbourhood_group       neighbourhood  latitude  \\\n",
      "0        Elisabeth           Manhattan              Harlem  40.80902   \n",
      "1      LisaRoxanne            Brooklyn        Clinton Hill  40.68514   \n",
      "2            Laura           Manhattan         East Harlem  40.79851   \n",
      "3            Chris           Manhattan         Murray Hill  40.74767   \n",
      "4            Garon            Brooklyn  Bedford-Stuyvesant  40.68688   \n",
      "...            ...                 ...                 ...       ...   \n",
      "48372          Ade            Brooklyn       Cypress Hills  40.67618   \n",
      "48373       Maggie           Manhattan     Upper East Side  40.77326   \n",
      "48374        Nancy            Brooklyn            Bushwick  40.69907   \n",
      "48375         Eric            Brooklyn       Crown Heights  40.66986   \n",
      "48376      Ebangha              Queens        Far Rockaway  40.60315   \n",
      "\n",
      "       longitude        room_type  price  minimum_nights  number_of_reviews  \\\n",
      "0      -73.94190     Private room    150               3                  0   \n",
      "1      -73.95976  Entire home/apt     89               1                279   \n",
      "2      -73.94399  Entire home/apt     80              10                  9   \n",
      "3      -73.97500  Entire home/apt    200               3                 75   \n",
      "4      -73.95596     Private room     60              45                 49   \n",
      "...          ...              ...    ...             ...                ...   \n",
      "48372  -73.90764  Entire home/apt    199               2                  0   \n",
      "48373  -73.96650  Entire home/apt    175              30                  0   \n",
      "48374  -73.93043     Private room     35              30                  0   \n",
      "48375  -73.93772     Private room     79               1                  0   \n",
      "48376  -73.75722     Private room     45               3                  0   \n",
      "\n",
      "      last_review  reviews_per_month  calculated_host_listings_count  \\\n",
      "0             NaN           1.385109                               1   \n",
      "1      2019-08-29           4.620000                               1   \n",
      "2      2018-11-19           0.100000                               1   \n",
      "3      2019-07-21           0.590000                               1   \n",
      "4      2017-10-05           0.390000                               1   \n",
      "...           ...                ...                             ...   \n",
      "48372         NaN           1.385109                               4   \n",
      "48373         NaN           1.385109                               1   \n",
      "48374         NaN           1.385109                               1   \n",
      "48375         NaN           1.385109                              10   \n",
      "48376         NaN           1.385109                               1   \n",
      "\n",
      "       availability_365  \n",
      "0                   365  \n",
      "1                   192  \n",
      "2                     0  \n",
      "3                    13  \n",
      "4                     0  \n",
      "...                 ...  \n",
      "48372                42  \n",
      "48373               263  \n",
      "48374                66  \n",
      "48375               322  \n",
      "48376               173  \n",
      "\n",
      "[48377 rows x 16 columns]\n"
     ]
    }
   ],
   "source": [
    "print(df)"
   ]
  },
  {
   "cell_type": "code",
   "execution_count": 8,
   "id": "5e52f25e",
   "metadata": {},
   "outputs": [
    {
     "name": "stdout",
     "output_type": "stream",
     "text": [
      "     id                                              name  host_id  \\\n",
      "0  3647               THE VILLAGE OF HARLEM....NEW YORK !     4632   \n",
      "1  3831                   Cozy Entire Floor of Brownstone     4869   \n",
      "2  5022  Entire Apt: Spacious Studio/Loft by central park     7192   \n",
      "3  5099         Large Cozy 1 BR Apartment In Midtown East     7322   \n",
      "4  5121                                   BlissArtsSpace!     7356   \n",
      "\n",
      "     host_name neighbourhood_group       neighbourhood  latitude  longitude  \\\n",
      "0    Elisabeth           Manhattan              Harlem  40.80902  -73.94190   \n",
      "1  LisaRoxanne            Brooklyn        Clinton Hill  40.68514  -73.95976   \n",
      "2        Laura           Manhattan         East Harlem  40.79851  -73.94399   \n",
      "3        Chris           Manhattan         Murray Hill  40.74767  -73.97500   \n",
      "4        Garon            Brooklyn  Bedford-Stuyvesant  40.68688  -73.95596   \n",
      "\n",
      "         room_type  price  minimum_nights  number_of_reviews last_review  \\\n",
      "0     Private room    150               3                  0         NaN   \n",
      "1  Entire home/apt     89               1                279  2019-08-29   \n",
      "2  Entire home/apt     80              10                  9  2018-11-19   \n",
      "3  Entire home/apt    200               3                 75  2019-07-21   \n",
      "4     Private room     60              45                 49  2017-10-05   \n",
      "\n",
      "   reviews_per_month  calculated_host_listings_count  availability_365  \n",
      "0           1.385109                               1               365  \n",
      "1           4.620000                               1               192  \n",
      "2           0.100000                               1                 0  \n",
      "3           0.590000                               1                13  \n",
      "4           0.390000                               1                 0  \n"
     ]
    }
   ],
   "source": [
    "print(df.head())"
   ]
  },
  {
   "cell_type": "code",
   "execution_count": 3,
   "id": "c685e17d",
   "metadata": {},
   "outputs": [
    {
     "name": "stdout",
     "output_type": "stream",
     "text": [
      "id                                   0\n",
      "name                                17\n",
      "host_id                              0\n",
      "host_name                           22\n",
      "neighbourhood_group                  0\n",
      "neighbourhood                        0\n",
      "latitude                             0\n",
      "longitude                            0\n",
      "room_type                            0\n",
      "price                                0\n",
      "minimum_nights                       0\n",
      "number_of_reviews                    0\n",
      "last_review                       9651\n",
      "reviews_per_month                 9651\n",
      "calculated_host_listings_count       0\n",
      "availability_365                     0\n",
      "dtype: int64\n"
     ]
    }
   ],
   "source": [
    "print(df.isnull().sum())"
   ]
  },
  {
   "cell_type": "code",
   "execution_count": 4,
   "id": "4100692f",
   "metadata": {},
   "outputs": [
    {
     "name": "stderr",
     "output_type": "stream",
     "text": [
      "C:\\Users\\Russel\\AppData\\Local\\Temp\\ipykernel_5000\\820435583.py:1: FutureWarning: The default value of numeric_only in DataFrame.mean is deprecated. In a future version, it will default to False. In addition, specifying 'numeric_only=None' is deprecated. Select only valid columns or specify the value of numeric_only to silence this warning.\n",
      "  df.fillna(df.mean(), inplace=True)\n"
     ]
    }
   ],
   "source": [
    "df.fillna(df.mean(), inplace=True)"
   ]
  },
  {
   "cell_type": "code",
   "execution_count": 5,
   "id": "4a2056ab",
   "metadata": {},
   "outputs": [
    {
     "name": "stdout",
     "output_type": "stream",
     "text": [
      "0\n"
     ]
    }
   ],
   "source": [
    "print(df.duplicated().sum())"
   ]
  },
  {
   "cell_type": "code",
   "execution_count": 6,
   "id": "52bb3ebe",
   "metadata": {},
   "outputs": [
    {
     "name": "stdout",
     "output_type": "stream",
     "text": [
      "             id                                              name    host_id  \\\n",
      "0          3647               THE VILLAGE OF HARLEM....NEW YORK !       4632   \n",
      "1          3831                   Cozy Entire Floor of Brownstone       4869   \n",
      "2          5022  Entire Apt: Spacious Studio/Loft by central park       7192   \n",
      "3          5099         Large Cozy 1 BR Apartment In Midtown East       7322   \n",
      "4          5121                                   BlissArtsSpace!       7356   \n",
      "...         ...                                               ...        ...   \n",
      "48372  38564068                                 Top Floor Delight  207204450   \n",
      "48373  38564524                             Central Park Elegance    1567562   \n",
      "48374  38566777                              Quiet room available  159902221   \n",
      "48375  38567542              Spacious room in Brooklyn brownstone   68905617   \n",
      "48376  38568081         Petrose home by JFK, Beach &St John Hosp.  293596932   \n",
      "\n",
      "         host_name neighbourhood_group       neighbourhood  latitude  \\\n",
      "0        Elisabeth           Manhattan              Harlem  40.80902   \n",
      "1      LisaRoxanne            Brooklyn        Clinton Hill  40.68514   \n",
      "2            Laura           Manhattan         East Harlem  40.79851   \n",
      "3            Chris           Manhattan         Murray Hill  40.74767   \n",
      "4            Garon            Brooklyn  Bedford-Stuyvesant  40.68688   \n",
      "...            ...                 ...                 ...       ...   \n",
      "48372          Ade            Brooklyn       Cypress Hills  40.67618   \n",
      "48373       Maggie           Manhattan     Upper East Side  40.77326   \n",
      "48374        Nancy            Brooklyn            Bushwick  40.69907   \n",
      "48375         Eric            Brooklyn       Crown Heights  40.66986   \n",
      "48376      Ebangha              Queens        Far Rockaway  40.60315   \n",
      "\n",
      "       longitude        room_type  price  minimum_nights  number_of_reviews  \\\n",
      "0      -73.94190     Private room    150               3                  0   \n",
      "1      -73.95976  Entire home/apt     89               1                279   \n",
      "2      -73.94399  Entire home/apt     80              10                  9   \n",
      "3      -73.97500  Entire home/apt    200               3                 75   \n",
      "4      -73.95596     Private room     60              45                 49   \n",
      "...          ...              ...    ...             ...                ...   \n",
      "48372  -73.90764  Entire home/apt    199               2                  0   \n",
      "48373  -73.96650  Entire home/apt    175              30                  0   \n",
      "48374  -73.93043     Private room     35              30                  0   \n",
      "48375  -73.93772     Private room     79               1                  0   \n",
      "48376  -73.75722     Private room     45               3                  0   \n",
      "\n",
      "      last_review  reviews_per_month  calculated_host_listings_count  \\\n",
      "0             NaN           1.385109                               1   \n",
      "1      2019-08-29           4.620000                               1   \n",
      "2      2018-11-19           0.100000                               1   \n",
      "3      2019-07-21           0.590000                               1   \n",
      "4      2017-10-05           0.390000                               1   \n",
      "...           ...                ...                             ...   \n",
      "48372         NaN           1.385109                               4   \n",
      "48373         NaN           1.385109                               1   \n",
      "48374         NaN           1.385109                               1   \n",
      "48375         NaN           1.385109                              10   \n",
      "48376         NaN           1.385109                               1   \n",
      "\n",
      "       availability_365  \n",
      "0                   365  \n",
      "1                   192  \n",
      "2                     0  \n",
      "3                    13  \n",
      "4                     0  \n",
      "...                 ...  \n",
      "48372                42  \n",
      "48373               263  \n",
      "48374                66  \n",
      "48375               322  \n",
      "48376               173  \n",
      "\n",
      "[48377 rows x 16 columns]\n"
     ]
    }
   ],
   "source": [
    "df.drop_duplicates(inplace=True)\n",
    "print(df)"
   ]
  },
  {
   "cell_type": "code",
   "execution_count": 7,
   "id": "4b3b102d",
   "metadata": {},
   "outputs": [
    {
     "name": "stdout",
     "output_type": "stream",
     "text": [
      "     id                                              name  host_id  \\\n",
      "0  3647               THE VILLAGE OF HARLEM....NEW YORK !     4632   \n",
      "1  3831                   Cozy Entire Floor of Brownstone     4869   \n",
      "2  5022  Entire Apt: Spacious Studio/Loft by central park     7192   \n",
      "3  5099         Large Cozy 1 BR Apartment In Midtown East     7322   \n",
      "4  5121                                   BlissArtsSpace!     7356   \n",
      "\n",
      "     host_name neighbourhood_group       neighbourhood  latitude  longitude  \\\n",
      "0    Elisabeth           Manhattan              Harlem  40.80902  -73.94190   \n",
      "1  LisaRoxanne            Brooklyn        Clinton Hill  40.68514  -73.95976   \n",
      "2        Laura           Manhattan         East Harlem  40.79851  -73.94399   \n",
      "3        Chris           Manhattan         Murray Hill  40.74767  -73.97500   \n",
      "4        Garon            Brooklyn  Bedford-Stuyvesant  40.68688  -73.95596   \n",
      "\n",
      "         room_type  price  minimum_nights  number_of_reviews last_review  \\\n",
      "0     Private room    150               3                  0         NaN   \n",
      "1  Entire home/apt     89               1                279  2019-08-29   \n",
      "2  Entire home/apt     80              10                  9  2018-11-19   \n",
      "3  Entire home/apt    200               3                 75  2019-07-21   \n",
      "4     Private room     60              45                 49  2017-10-05   \n",
      "\n",
      "   reviews_per_month  calculated_host_listings_count  availability_365  \n",
      "0           1.385109                               1               365  \n",
      "1           4.620000                               1               192  \n",
      "2           0.100000                               1                 0  \n",
      "3           0.590000                               1                13  \n",
      "4           0.390000                               1                 0  \n"
     ]
    }
   ],
   "source": [
    "print(df.head())"
   ]
  },
  {
   "cell_type": "code",
   "execution_count": null,
   "id": "5c515d54",
   "metadata": {},
   "outputs": [],
   "source": []
  }
 ],
 "metadata": {
  "kernelspec": {
   "display_name": "Python 3 (ipykernel)",
   "language": "python",
   "name": "python3"
  },
  "language_info": {
   "codemirror_mode": {
    "name": "ipython",
    "version": 3
   },
   "file_extension": ".py",
   "mimetype": "text/x-python",
   "name": "python",
   "nbconvert_exporter": "python",
   "pygments_lexer": "ipython3",
   "version": "3.10.9"
  }
 },
 "nbformat": 4,
 "nbformat_minor": 5
}
