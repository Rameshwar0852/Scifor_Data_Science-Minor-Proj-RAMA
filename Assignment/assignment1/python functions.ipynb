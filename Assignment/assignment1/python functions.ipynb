{
 "cells": [
  {
   "cell_type": "code",
   "execution_count": 18,
   "id": "3cd9f0bb",
   "metadata": {},
   "outputs": [
    {
     "name": "stdout",
     "output_type": "stream",
     "text": [
      "Hello\n",
      "Good Morning\n"
     ]
    }
   ],
   "source": [
    "def greet():\n",
    "    print(\"Hello\")\n",
    "    print(\"Good Morning\")\n",
    "\n",
    "greet()"
   ]
  },
  {
   "cell_type": "code",
   "execution_count": 5,
   "id": "86472110",
   "metadata": {},
   "outputs": [
    {
     "name": "stdout",
     "output_type": "stream",
     "text": [
      "9\n"
     ]
    }
   ],
   "source": [
    "def add(x,y):\n",
    "    c=x+y\n",
    "    print(c)\n",
    "add(5,4)"
   ]
  },
  {
   "cell_type": "code",
   "execution_count": 10,
   "id": "7c030ec4",
   "metadata": {},
   "outputs": [
    {
     "name": "stdout",
     "output_type": "stream",
     "text": [
      "12 4\n"
     ]
    }
   ],
   "source": [
    "def add_sub(a,b):\n",
    "    c=a+b\n",
    "    d=a-b\n",
    "    return c,d\n",
    "result1,result2=add_sub(8,4)\n",
    "print(result1,result2)"
   ]
  },
  {
   "cell_type": "code",
   "execution_count": 20,
   "id": "0ba68d6b",
   "metadata": {},
   "outputs": [
    {
     "name": "stdout",
     "output_type": "stream",
     "text": [
      "the sum of marks is 478\n"
     ]
    }
   ],
   "source": [
    "marks=[88,70,75,92,69,84]\n",
    "sum_marks=sum(marks)\n",
    "print(\"the sum of marks is\", sum_marks)"
   ]
  },
  {
   "cell_type": "code",
   "execution_count": 21,
   "id": "f609d96e",
   "metadata": {},
   "outputs": [
    {
     "name": "stdout",
     "output_type": "stream",
     "text": [
      "Addition of the 2 numbers is: 75\n",
      "Multiplication of the 2 numbers is: 1400\n"
     ]
    }
   ],
   "source": [
    "def add_multiply(n1,n2):\n",
    "    add=n1+n2\n",
    "    multiply=n1*n2\n",
    "    return add,multiply\n",
    "Addition,Multiplication=add_multiply(40,35)\n",
    "print(\"Addition of the 2 numbers is:\", Addition)\n",
    "print(\"Multiplication of the 2 numbers is:\", Multiplication)"
   ]
  },
  {
   "cell_type": "code",
   "execution_count": null,
   "id": "51c02da1",
   "metadata": {},
   "outputs": [],
   "source": []
  }
 ],
 "metadata": {
  "kernelspec": {
   "display_name": "Python 3 (ipykernel)",
   "language": "python",
   "name": "python3"
  },
  "language_info": {
   "codemirror_mode": {
    "name": "ipython",
    "version": 3
   },
   "file_extension": ".py",
   "mimetype": "text/x-python",
   "name": "python",
   "nbconvert_exporter": "python",
   "pygments_lexer": "ipython3",
   "version": "3.10.9"
  }
 },
 "nbformat": 4,
 "nbformat_minor": 5
}
